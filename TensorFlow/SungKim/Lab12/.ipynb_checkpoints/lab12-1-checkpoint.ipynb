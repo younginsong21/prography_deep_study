{
 "cells": [
  {
   "cell_type": "code",
   "execution_count": 1,
   "metadata": {},
   "outputs": [
    {
     "name": "stdout",
     "output_type": "stream",
     "text": [
      "WARNING:tensorflow:From C:\\Users\\USER\\AppData\\Roaming\\Python\\Python35\\site-packages\\tensorflow\\contrib\\learn\\python\\learn\\datasets\\base.py:198: retry (from tensorflow.contrib.learn.python.learn.datasets.base) is deprecated and will be removed in a future version.\n",
      "Instructions for updating:\n",
      "Use the retry module or similar alternatives.\n"
     ]
    }
   ],
   "source": [
    "import tensorflow as tf\n",
    "import numpy as np\n",
    "from tensorflow.contrib import rnn\n",
    "import pprint\n",
    "\n",
    "pp = pprint.PrettyPrinter(indent=4)\n",
    "sess = tf.InteractiveSession()\n",
    "\n",
    "# One hot encoding for each char in 'hello'\n",
    "h = [1, 0, 0, 0]\n",
    "e = [0, 1, 0, 0]\n",
    "l = [0, 0, 1, 0]\n",
    "o = [0, 0, 0, 1]\n"
   ]
  },
  {
   "cell_type": "code",
   "execution_count": 2,
   "metadata": {},
   "outputs": [
    {
     "name": "stdout",
     "output_type": "stream",
     "text": [
      "array([[[-0.02131689, -0.16240609]]], dtype=float32)\n"
     ]
    }
   ],
   "source": [
    "'''\n",
    "one cell RNN\n",
    "input: dim=4, shape:(1, 1, 4)\n",
    "output: dim=hidden_size=2, shape:(1, 1, 2) <== 이건 내 마음대로 조절 가능\n",
    "'''\n",
    "\n",
    "hidden_size = 2\n",
    "cell = tf.contrib.rnn.BasicLSTMCell(num_units=hidden_size)\n",
    "\n",
    "x_data = np.array([[[1, 0, 0, 0]]], dtype=np.float32)\n",
    "outputs, _states = tf.nn.dynamic_rnn(cell, x_data, dtype=tf.float32)\n",
    "\n",
    "sess.run(tf.global_variables_initializer())\n",
    "pp.pprint(outputs.eval()) #이 결과값은 2개 --> hidden_size=2이기 때문에"
   ]
  },
  {
   "cell_type": "code",
   "execution_count": 3,
   "metadata": {},
   "outputs": [
    {
     "name": "stdout",
     "output_type": "stream",
     "text": [
      "x_data.shape: (1, 5, 4)\n",
      "array([[[1., 0., 0., 0.],\n",
      "        [0., 1., 0., 0.],\n",
      "        [0., 0., 1., 0.],\n",
      "        [0., 0., 1., 0.],\n",
      "        [0., 0., 0., 1.]]], dtype=float32)\n",
      "array([[[ 0.02293575, -0.07902707],\n",
      "        [-0.12237618, -0.1925052 ],\n",
      "        [-0.03482274, -0.12054727],\n",
      "        [-0.01067121, -0.09055997],\n",
      "        [ 0.09562207, -0.02054849]]], dtype=float32)\n"
     ]
    }
   ],
   "source": [
    "'''\n",
    "one cell RNN\n",
    "input: dim=4, shape:(1, 5, 4)\n",
    "output: dim=hidden_size=2, shape:(1, 5, 2) <== 이건 내 마음대로 조절 가능\n",
    "sequence=5\n",
    "'''\n",
    "with tf.variable_scope('two_cell_ex') as scope:\n",
    "    hidden_size = 2\n",
    "    cell = tf.contrib.rnn.BasicLSTMCell(num_units=hidden_size)\n",
    "    x_data = np.array([[h, e, l, l, o]], dtype=np.float32)\n",
    "    print(\"x_data.shape:\", x_data.shape)\n",
    "    pp.pprint(x_data)\n",
    "\n",
    "    outputs, states = tf.nn.dynamic_rnn(cell, x_data, dtype=tf.float32)\n",
    "    sess.run(tf.global_variables_initializer())\n",
    "    pp.pprint(outputs.eval())"
   ]
  },
  {
   "cell_type": "code",
   "execution_count": 4,
   "metadata": {},
   "outputs": [
    {
     "name": "stdout",
     "output_type": "stream",
     "text": [
      "x_data.shape: (3, 5, 4)\n",
      "array([[[1., 0., 0., 0.],\n",
      "        [0., 1., 0., 0.],\n",
      "        [0., 0., 1., 0.],\n",
      "        [0., 0., 1., 0.],\n",
      "        [0., 0., 0., 1.]],\n",
      "\n",
      "       [[0., 1., 0., 0.],\n",
      "        [0., 0., 0., 1.],\n",
      "        [0., 0., 1., 0.],\n",
      "        [0., 0., 1., 0.],\n",
      "        [0., 0., 1., 0.]],\n",
      "\n",
      "       [[0., 0., 1., 0.],\n",
      "        [0., 0., 1., 0.],\n",
      "        [0., 1., 0., 0.],\n",
      "        [0., 1., 0., 0.],\n",
      "        [0., 0., 1., 0.]]], dtype=float32)\n",
      "array([[[ 0.11604275,  0.05204953],\n",
      "        [ 0.07157401, -0.0542271 ],\n",
      "        [ 0.14812964,  0.07937675],\n",
      "        [ 0.17830156,  0.14787003],\n",
      "        [ 0.09372422,  0.22138822]],\n",
      "\n",
      "       [[-0.03778867, -0.09602636],\n",
      "        [ 0.01213033, -0.02889513],\n",
      "        [ 0.11886191,  0.08800383],\n",
      "        [ 0.1623584 ,  0.15114796],\n",
      "        [ 0.1806925 ,  0.18432167]],\n",
      "\n",
      "       [[ 0.10652491,  0.09859286],\n",
      "        [ 0.15531774,  0.155984  ],\n",
      "        [ 0.06682406,  0.06382871],\n",
      "        [ 0.00641339, -0.05013635],\n",
      "        [ 0.11338571,  0.0778539 ]]], dtype=float32)\n"
     ]
    }
   ],
   "source": [
    "'''\n",
    "학습의 효율성을 높이기 위해 여러개의 batch data 이용\n",
    "one cell RNN\n",
    "input: dim=4, shape:(3, 5, 4)\n",
    "output: dim=hidden_size=2, shape:(3, 5, 2) <== 이건 내 마음대로 조절 가능\n",
    "sequence=5\n",
    "'''\n",
    "with tf.variable_scope('third_batch_ex') as scope:\n",
    "    x_data = np.array([[h, e, l, l, o],\n",
    "                       [e, o, l, l, l],\n",
    "                       [l, l, e, e, l]], dtype=np.float32)\n",
    "    print(\"x_data.shape:\", x_data.shape)\n",
    "    pp.pprint(x_data)\n",
    "    \n",
    "    hidden_size = 2\n",
    "    cell = rnn.BasicLSTMCell(num_units=hidden_size, state_is_tuple=True)\n",
    "    outputs, _states = tf.nn.dynamic_rnn(cell, x_data, dtype=tf.float32)\n",
    "    sess.run(tf.global_variables_initializer())\n",
    "    pp.pprint(outputs.eval())"
   ]
  }
 ],
 "metadata": {
  "kernelspec": {
   "display_name": "tf",
   "language": "python",
   "name": "tf"
  },
  "language_info": {
   "codemirror_mode": {
    "name": "ipython",
    "version": 3
   },
   "file_extension": ".py",
   "mimetype": "text/x-python",
   "name": "python",
   "nbconvert_exporter": "python",
   "pygments_lexer": "ipython3",
   "version": "3.5.5"
  }
 },
 "nbformat": 4,
 "nbformat_minor": 2
}
