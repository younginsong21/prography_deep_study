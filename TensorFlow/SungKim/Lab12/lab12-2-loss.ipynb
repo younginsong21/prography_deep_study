{
 "cells": [
  {
   "cell_type": "code",
   "execution_count": 1,
   "metadata": {},
   "outputs": [
    {
     "name": "stdout",
     "output_type": "stream",
     "text": [
      "WARNING:tensorflow:From C:\\Users\\USER\\AppData\\Roaming\\Python\\Python35\\site-packages\\tensorflow\\contrib\\learn\\python\\learn\\datasets\\base.py:198: retry (from tensorflow.contrib.learn.python.learn.datasets.base) is deprecated and will be removed in a future version.\n",
      "Instructions for updating:\n",
      "Use the retry module or similar alternatives.\n",
      "Loss: 0.5967595\n"
     ]
    }
   ],
   "source": [
    "import tensorflow as tf\n",
    "\n",
    "sess = tf.InteractiveSession()\n",
    "\n",
    "# y_data.shape = [batch_size, sequence_length]\n",
    "y_data = tf.constant([[1, 1, 1]])\n",
    "\n",
    "# prediction.shape = [batch_size, sequence_length, emb_dim]\n",
    "prediction = tf.constant([[[0.2, 0.7], [0.6, 0.2], [0.2, 0.9]]], \n",
    "                         dtype=tf.float32) # [[1, 0, 1]] 으로 예측\n",
    "\n",
    "# weights.shape = [batch_size*sequence_length]\n",
    "weights = tf.constant([[1, 1, 1]], dtype=tf.float32)\n",
    "\n",
    "sequence_loss = tf.contrib.seq2seq.sequence_loss(logits=prediction,\n",
    "                                                 targets=y_data,\n",
    "                                                 weights=weights)\n",
    "\n",
    "sess.run(tf.global_variables_initializer())\n",
    "print(\"Loss:\", sequence_loss.eval())"
   ]
  },
  {
   "cell_type": "code",
   "execution_count": 2,
   "metadata": {},
   "outputs": [
    {
     "name": "stdout",
     "output_type": "stream",
     "text": [
      "Loss 1: 0.5130153 \n",
      "Loss 2: 0.3711007\n"
     ]
    }
   ],
   "source": [
    "# 단순 예측된 label뿐만 아니고 예측된 정도도 cost에 영향을 미침\n",
    "\n",
    "prediction1 = tf.constant([[[0.3, 0.7], [0.3, 0.7], [0.3, 0.7]]], \n",
    "                         dtype=tf.float32) #[[1, 1, 1]] 으로 예측\n",
    "prediction2 = tf.constant([[[0.1, 0.9], [0.1, 0.9], [0.1, 0.9]]],\n",
    "                         dtype=tf.float32) #[[1, 1, 1]]으로 예측\n",
    "\n",
    "sequence_loss1 = tf.contrib.seq2seq.sequence_loss(logits=prediction1,\n",
    "                                                 targets=y_data,\n",
    "                                                 weights=weights)\n",
    "sequence_loss2 = tf.contrib.seq2seq.sequence_loss(logits=prediction2,\n",
    "                                                 targets=y_data,\n",
    "                                                 weights=weights)\n",
    "\n",
    "sess.run(tf.global_variables_initializer())\n",
    "print(\"Loss 1:\", sequence_loss1.eval(), \"\\nLoss 2:\", sequence_loss2.eval())\n"
   ]
  }
 ],
 "metadata": {
  "kernelspec": {
   "display_name": "tf",
   "language": "python",
   "name": "tf"
  },
  "language_info": {
   "codemirror_mode": {
    "name": "ipython",
    "version": 3
   },
   "file_extension": ".py",
   "mimetype": "text/x-python",
   "name": "python",
   "nbconvert_exporter": "python",
   "pygments_lexer": "ipython3",
   "version": "3.5.5"
  }
 },
 "nbformat": 4,
 "nbformat_minor": 2
}
