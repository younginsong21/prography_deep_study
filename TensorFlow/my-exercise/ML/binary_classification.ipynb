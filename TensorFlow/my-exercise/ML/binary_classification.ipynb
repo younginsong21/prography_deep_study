{
 "cells": [
  {
   "cell_type": "code",
   "execution_count": 2,
   "metadata": {
    "collapsed": false
   },
   "outputs": [
    {
     "name": "stdout",
     "output_type": "stream",
     "text": [
      "trainX.shape: (607, 8)\n",
      "testX.shape: (152, 8)\n",
      "trainY.shape: (607, 1)\n",
      "testY.shape: (152, 1)\n",
      "step: 0  loss: 0.835866\n",
      "step: 1000  loss: 0.671756\n",
      "step: 2000  loss: 0.604992\n",
      "step: 3000  loss: 0.563949\n",
      "step: 4000  loss: 0.538142\n",
      "step: 5000  loss: 0.52126\n",
      "step: 6000  loss: 0.509748\n",
      "step: 7000  loss: 0.501604\n",
      "step: 8000  loss: 0.495659\n",
      "step: 9000  loss: 0.491203\n",
      "step: 10000  loss: 0.487786\n",
      "Accuracy: 0.730263\n"
     ]
    }
   ],
   "source": [
    "import tensorflow as tf\n",
    "import numpy as np\n",
    "tf.set_random_seed(777)  # for reproducibility\n",
    "\n",
    "# 데이터 로딩, X-Y 분리\n",
    "dataXY = np.loadtxt('data-03-diabetes.csv', delimiter=',', dtype=np.float32)\n",
    "dataX = dataXY[:, 0:-1]\n",
    "dataY = dataXY[:, [-1]]\n",
    "\n",
    "# train data(80%), test data(20%) 분리\n",
    "train_len = int(len(dataX) * 0.8)\n",
    "trainX, testX = dataX[:train_len], dataX[train_len:]\n",
    "print(\"trainX.shape:\", trainX.shape)\n",
    "print(\"testX.shape:\", testX.shape)\n",
    "trainY, testY = dataY[:train_len], dataY[train_len:]\n",
    "print(\"trainY.shape:\", trainY.shape)\n",
    "print(\"testY.shape:\", testY.shape)\n",
    "\n",
    "# input placeholders\n",
    "X = tf.placeholder(tf.float32, shape=[None, 8])\n",
    "Y = tf.placeholder(tf.float32, shape=[None, 1])\n",
    "\n",
    "# training variables\n",
    "W = tf.Variable(tf.random_normal([8, 1]))\n",
    "b = tf.Variable(tf.random_normal([1]))\n",
    "\n",
    "# hypothesis\n",
    "logits = tf.matmul(X, W) + b\n",
    "hypothesis = tf.sigmoid(logits)\n",
    "\n",
    "# cost\n",
    "cost = -tf.reduce_mean(Y * tf.log(hypothesis) + (1-Y) * tf.log(1-hypothesis))\n",
    "\n",
    "# optimizer\n",
    "optimizer = tf.train.GradientDescentOptimizer(learning_rate=0.01).minimize(cost)\n",
    "\n",
    "# accuracy computation\n",
    "prediction = tf.cast(hypothesis>0.5, dtype=tf.float32)\n",
    "accuracy = tf.reduce_mean(tf.cast(tf.equal(prediction, Y), dtype=tf.float32))\n",
    "\n",
    "with tf.Session() as sess:\n",
    "    sess.run(tf.global_variables_initializer())\n",
    "    # training with training set\n",
    "    for step in range(10001):\n",
    "        c, _ = sess.run([cost, optimizer],\n",
    "                        feed_dict={X: trainX, Y: trainY})\n",
    "        if step % 1000 == 0:\n",
    "            print(\"step:\", step, \" loss:\", c)\n",
    "\n",
    "    # testing & report accuracy with test set\n",
    "    pred, acc = sess.run([prediction, accuracy],\n",
    "                         feed_dict={X: testX, Y: testY})\n",
    "    print(\"Accuracy:\", acc)"
   ]
  }
 ],
 "metadata": {
  "anaconda-cloud": {},
  "kernelspec": {
   "display_name": "Python [conda env:tf]",
   "language": "python",
   "name": "conda-env-tf-py"
  },
  "language_info": {
   "codemirror_mode": {
    "name": "ipython",
    "version": 3
   },
   "file_extension": ".py",
   "mimetype": "text/x-python",
   "name": "python",
   "nbconvert_exporter": "python",
   "pygments_lexer": "ipython3",
   "version": "3.5.4"
  }
 },
 "nbformat": 4,
 "nbformat_minor": 1
}
