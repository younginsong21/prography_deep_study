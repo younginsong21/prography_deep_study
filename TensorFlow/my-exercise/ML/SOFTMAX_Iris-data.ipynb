{
 "cells": [
  {
   "cell_type": "code",
   "execution_count": 1,
   "metadata": {
    "collapsed": false
   },
   "outputs": [
    {
     "name": "stdout",
     "output_type": "stream",
     "text": [
      "step: 0  cost: 7.73558\n",
      "step: 1000  cost: 0.130205\n",
      "step: 2000  cost: 0.0965053\n",
      "step: 3000  cost: 0.0831162\n",
      "step: 4000  cost: 0.075638\n",
      "step: 5000  cost: 0.0707232\n",
      "step: 6000  cost: 0.0671658\n",
      "step: 7000  cost: 0.0644221\n",
      "step: 8000  cost: 0.0622091\n",
      "step: 9000  cost: 0.0603649\n",
      "step: 10000  cost: 0.0587895\n",
      "step: 11000  cost: 0.0574174\n",
      "step: 12000  cost: 0.0562043\n",
      "step: 13000  cost: 0.0551183\n",
      "step: 14000  cost: 0.0541364\n",
      "step: 15000  cost: 0.0532411\n",
      "step: 16000  cost: 0.0524191\n",
      "step: 17000  cost: 0.0516598\n",
      "step: 18000  cost: 0.050955\n",
      "step: 19000  cost: 0.0502976\n",
      "accuracy:  0.966667\n"
     ]
    }
   ],
   "source": [
    "import tensorflow as tf\n",
    "import numpy as np\n",
    "tf.set_random_seed(777)  # for reproducibility\n",
    "\n",
    "# 데이터 로딩, 셔플링\n",
    "dataXY = np.loadtxt('Iris.csv', delimiter=',', dtype=np.float32)\n",
    "np.random.shuffle(dataXY)\n",
    "\n",
    "# XY 분리, column 재정리\n",
    "dataX = dataXY[:, :-1]\n",
    "dataY = dataXY[:, [-1]]\n",
    "\n",
    "# training set, test set 분리 (비율은 8:2)\n",
    "train_len = int(len(dataX) * 0.8)\n",
    "trainX, testX = dataX[:train_len], dataX[train_len:]\n",
    "trainY, testY = dataY[:train_len], dataY[train_len:]\n",
    "\n",
    "num_classes = 3\n",
    "\n",
    "# input placeholders\n",
    "X = tf.placeholder(tf.float32, shape=[None, 4])\n",
    "Y = tf.placeholder(tf.int32, shape=[None, 1])      # Iris 종류: 0-2의 총 3개 class\n",
    "Y_one_hot = tf.one_hot(Y, num_classes)             # one hot 처리\n",
    "Y_one_hot = tf.reshape(Y_one_hot, [-1, num_classes])\n",
    "\n",
    "# train variables\n",
    "W = tf.Variable(tf.random_normal([4, num_classes]))\n",
    "b = tf.Variable(tf.random_normal([num_classes]))\n",
    "\n",
    "# logit, hypothesis, loss 정의\n",
    "logit = tf.matmul(X, W) + b\n",
    "hypothesis = tf.nn.softmax(logit)\n",
    "inner_loss = tf.nn.softmax_cross_entropy_with_logits(logits=logit,\n",
    "                                                     labels=Y_one_hot)\n",
    "loss = tf.reduce_mean(inner_loss)\n",
    "\n",
    "# optimizer\n",
    "optimizer = tf.train.GradientDescentOptimizer(learning_rate=0.1).minimize(loss)\n",
    "\n",
    "# prediction, accuracy 정의\n",
    "prediction = tf.argmax(hypothesis, 1)\n",
    "is_correct = tf.equal(prediction, tf.argmax(Y_one_hot, 1))\n",
    "accuracy = tf.reduce_mean(tf.cast(is_correct, tf.float32))\n",
    "\n",
    "# launch graph, training\n",
    "sess = tf.Session()\n",
    "sess.run(tf.global_variables_initializer())\n",
    "# start training\n",
    "for step in range(20000):\n",
    "    l, _ = sess.run([loss, optimizer],\n",
    "                    feed_dict={X: trainX, Y: trainY})\n",
    "    if step % 1000 == 0:\n",
    "        print(\"step:\", step, \" cost:\", l)\n",
    "# end of training\n",
    "\n",
    "# accuray report with training set\n",
    "acc = sess.run(accuracy, feed_dict={X:testX, Y:testY})\n",
    "print(\"accuracy: \", acc)"
   ]
  },
  {
   "cell_type": "code",
   "execution_count": 2,
   "metadata": {
    "collapsed": false
   },
   "outputs": [
    {
     "name": "stdout",
     "output_type": "stream",
     "text": [
      "actual label: [ 1.]\n",
      "predicted label: [1]\n"
     ]
    }
   ],
   "source": [
    "# random data prediction\n",
    "import random\n",
    "r = random.randint(0, len(testX)-1)\n",
    "label = testY[r]\n",
    "print(\"actual label:\", label)\n",
    "pred = sess.run(tf.argmax(hypothesis, 1),\n",
    "               feed_dict={X: testX[[r], :]})\n",
    "print(\"predicted label:\", pred)"
   ]
  }
 ],
 "metadata": {
  "anaconda-cloud": {},
  "kernelspec": {
   "display_name": "Python [default]",
   "language": "python",
   "name": "python3"
  },
  "language_info": {
   "codemirror_mode": {
    "name": "ipython",
    "version": 3
   },
   "file_extension": ".py",
   "mimetype": "text/x-python",
   "name": "python",
   "nbconvert_exporter": "python",
   "pygments_lexer": "ipython3",
   "version": "3.5.2"
  }
 },
 "nbformat": 4,
 "nbformat_minor": 1
}
