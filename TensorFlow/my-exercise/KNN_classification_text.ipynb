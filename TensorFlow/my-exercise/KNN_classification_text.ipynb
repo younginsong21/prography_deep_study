{
 "cells": [
  {
   "cell_type": "code",
   "execution_count": 1,
   "metadata": {
    "collapsed": false
   },
   "outputs": [
    {
     "name": "stdout",
     "output_type": "stream",
     "text": [
      "단맛:5\n",
      "아삭거림:10\n",
      "k값 입력(1~3):2\n",
      "\n",
      "==============kNN 이용한 분류 결과==============\n",
      "k= 2\n",
      "Rank: 1  prediction class: 채소\n",
      "Rank: 2  prediction class: 채소\n"
     ]
    }
   ],
   "source": [
    "import numpy as np\n",
    "import matplotlib.pyplot as plt\n",
    "\n",
    "# 행렬 형태로 변환, 분류 대상과 분류 카테고리 생성\n",
    "def data_set():\n",
    "    dataset = np.array([grape, fish, carrot, orange, celery, cheese]) # 주어진 데이터셋을 행렬형태로 변환\n",
    "    size = len(dataset)\n",
    "    class_target = np.tile(target, (size, 1)) # 입력받은 데이터를 행렬형태로 변환, 넓게 퍼트림\n",
    "    class_category = np.array(category)\n",
    "\n",
    "    return dataset, class_target, class_category\n",
    "\n",
    "    \n",
    "# 유클리드(L2) 거리 이용-분류작업\n",
    "def classify(dataset, class_target, class_category, k):\n",
    "    # 유클리드 거리 계산\n",
    "    diffMatrix = class_target - dataset\n",
    "    sqdiffMatrix = diffMatrix**2\n",
    "    row_sum_diff = sqdiffMatrix.sum(axis=1)\n",
    "    distance = np.sqrt(row_sum_diff)\n",
    "   \n",
    "    # distance 오름차순 정렬 후 idx만 배열에 저장 --> argsort 함수 이용\n",
    "    sort_dist = distance.argsort()\n",
    "    \n",
    "    # 최상위 k개 선정\n",
    "    class_result = [] # 최상위 k개로 선정된 카테고리 저장할 리스트\n",
    "    for i in range(k):\n",
    "        c = class_category[sort_dist[i]] # i번째 sort_dist가 곧 관련도가 높은 카테고리의 인덱스\n",
    "        class_result.append(c)\n",
    "        \n",
    "    return class_result\n",
    "\n",
    "# 분류결과 출력 함수\n",
    "def print_result(class_result):\n",
    "    print(\"\\n==============kNN 이용한 분류 결과==============\")\n",
    "    print(\"k=\", k)\n",
    "    for i in range(len(class_result)):\n",
    "        print(\"Rank:\", i+1, \" prediction class:\", class_result[i])\n",
    "        \n",
    "\n",
    "# 학습 데이터셋\n",
    "# [단맛, 아삭거림]\n",
    "grape = [8, 5]\n",
    "fish = [2, 3]\n",
    "carrot = [7, 10]\n",
    "orange = [7, 3]\n",
    "celery = [3, 8]\n",
    "cheese = [1, 1]\n",
    "category = ['과일', '단백질', '채소', '과일', '채소', '단백질']\n",
    "\n",
    "# 분류대상(prediction data) 사용자에게 입력받기\n",
    "param1 = int(input('단맛:'))\n",
    "param2 = int(input('아삭거림:'))\n",
    "target = [param1, param2]\n",
    "\n",
    "# 데이터셋 생성\n",
    "dataset, class_target, class_category = data_set() # data_set() 함수 호출\n",
    "   \n",
    "# 사용자에게 k값 입력\n",
    "k = int(input('k값 입력(1~3):'))\n",
    "class_result = classify(dataset, class_target, class_category, k)  # classify()함수호출\n",
    "print_result(class_result)\n"
   ]
  }
 ],
 "metadata": {
  "anaconda-cloud": {},
  "kernelspec": {
   "display_name": "Python [conda env:tf]",
   "language": "python",
   "name": "conda-env-tf-py"
  },
  "language_info": {
   "codemirror_mode": {
    "name": "ipython",
    "version": 3
   },
   "file_extension": ".py",
   "mimetype": "text/x-python",
   "name": "python",
   "nbconvert_exporter": "python",
   "pygments_lexer": "ipython3",
   "version": "3.5.4"
  }
 },
 "nbformat": 4,
 "nbformat_minor": 1
}
