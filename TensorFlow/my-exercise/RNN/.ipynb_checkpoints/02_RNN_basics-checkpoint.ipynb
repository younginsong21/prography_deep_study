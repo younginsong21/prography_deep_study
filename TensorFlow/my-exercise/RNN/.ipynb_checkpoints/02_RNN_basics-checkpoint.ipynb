{
 "cells": [
  {
   "cell_type": "code",
   "execution_count": 1,
   "metadata": {},
   "outputs": [
    {
     "name": "stderr",
     "output_type": "stream",
     "text": [
      "C:\\Users\\young\\AppData\\Roaming\\Python\\Python35\\site-packages\\h5py\\__init__.py:36: FutureWarning: Conversion of the second argument of issubdtype from `float` to `np.floating` is deprecated. In future, it will be treated as `np.float64 == np.dtype(float).type`.\n",
      "  from ._conv import register_converters as _register_converters\n"
     ]
    },
    {
     "name": "stdout",
     "output_type": "stream",
     "text": [
      "WARNING:tensorflow:From C:\\Users\\young\\AppData\\Roaming\\Python\\Python35\\site-packages\\tensorflow\\contrib\\learn\\python\\learn\\datasets\\base.py:198: retry (from tensorflow.contrib.learn.python.learn.datasets.base) is deprecated and will be removed in a future version.\n",
      "Instructions for updating:\n",
      "Use the retry module or similar alternatives.\n"
     ]
    }
   ],
   "source": [
    "# one cell : input_dim=4 to hidden_size=2\n",
    "# hidden size는 내 마음대로 정할 수 있다. \n",
    "# hidden size=2 라는 뜻은, input_dim에 관계 없이 [score1, score2]으로 cell이 뱉어낸다.\n",
    "\n",
    "import tensorflow as tf\n",
    "import numpy as np\n",
    "from tensorflow.contrib import rnn\n",
    "import pprint\n",
    "import matplotlib.pyplot as plt\n",
    "import matplotlib.image as mpimg\n",
    "pp = pprint.PrettyPrinter(indent=4)\n",
    "sess = tf.InteractiveSession()"
   ]
  },
  {
   "cell_type": "code",
   "execution_count": 2,
   "metadata": {},
   "outputs": [],
   "source": [
    "# one hot encoding \n",
    "h = [1, 0, 0, 0]\n",
    "e = [0, 1, 0, 0]\n",
    "l = [0, 0, 1, 0]\n",
    "o = [0, 0, 0, 1]"
   ]
  },
  {
   "cell_type": "markdown",
   "metadata": {},
   "source": [
    "# 하나짜리 RNN cell\n",
    "![one_cell](C:\\Users\\young\\Desktop\\pg_young\\TensorFlow\\img\\one_cell.png)"
   ]
  },
  {
   "cell_type": "code",
   "execution_count": 3,
   "metadata": {},
   "outputs": [
    {
     "name": "stdout",
     "output_type": "stream",
     "text": [
      "cell's output size: 2, cell's state size: 2\n",
      "array([[[1., 0., 0., 0.]]], dtype=float32)\n",
      "array([[[-0.12370696,  0.10962861]]], dtype=float32)\n"
     ]
    }
   ],
   "source": [
    "with tf.variable_scope('one_cell') as scope:\n",
    "    # One cell RNN input_dim (4) -> output_dim (2)\n",
    "    hidden_size = 2\n",
    "    cell = tf.contrib.rnn.BasicRNNCell(num_units=hidden_size)\n",
    "    print(\"cell's output size: %d, cell's state size: %d\" %(cell.output_size, cell.state_size))\n",
    "\n",
    "    x_data = np.array([[h]], dtype=np.float32) # x_data = [[[1,0,0,0]]]\n",
    "    pp.pprint(x_data)\n",
    "    outputs, _states = tf.nn.dynamic_rnn(cell, x_data, dtype=tf.float32)\n",
    "\n",
    "    sess.run(tf.global_variables_initializer())\n",
    "    pp.pprint(outputs.eval())"
   ]
  },
  {
   "cell_type": "markdown",
   "metadata": {},
   "source": [
    "# Sequence length\n",
    "## 한꺼번에 길이가 5인 문자열을 input으로 주기\n",
    "![seq_cells](C:\\Users\\young\\Desktop\\pg_young\\TensorFlow\\img\\seq_cells.png)"
   ]
  },
  {
   "cell_type": "code",
   "execution_count": 4,
   "metadata": {},
   "outputs": [
    {
     "name": "stdout",
     "output_type": "stream",
     "text": [
      "(1, 5, 4)\n",
      "array([[[1., 0., 0., 0.],\n",
      "        [0., 1., 0., 0.],\n",
      "        [0., 0., 1., 0.],\n",
      "        [0., 0., 1., 0.],\n",
      "        [0., 0., 0., 1.]]], dtype=float32)\n",
      "array([[[-0.51534283,  0.364244  ],\n",
      "        [-0.34681544, -0.04779394],\n",
      "        [ 0.33684608,  0.4359433 ],\n",
      "        [ 0.23317648,  0.22291286],\n",
      "        [ 0.19425212,  0.5640993 ]]], dtype=float32)\n"
     ]
    }
   ],
   "source": [
    "with tf.variable_scope('sequences') as scope:\n",
    "    # One cell RNN input_dim (4) -> output_dim (2)\n",
    "    # 여기까지는 RNN cell 하나 정의하는 거니까 위의 코드랑 다른게 없음\n",
    "    hidden_size = 2\n",
    "    cell = tf.contrib.rnn.BasicRNNCell(num_units=hidden_size)\n",
    "    \n",
    "    x_data = np.array([[h, e, l, l, o]], dtype=np.float32) #여기서 seq=5. 한꺼번에 5개의 입력\n",
    "    print(x_data.shape)\n",
    "    pp.pprint(x_data)\n",
    "    \n",
    "    outputs, states = tf.nn.dynamic_rnn(cell, x_data, dtype=tf.float32)\n",
    "    sess.run(tf.global_variables_initializer())\n",
    "    pp.pprint(outputs.eval())"
   ]
  },
  {
   "cell_type": "markdown",
   "metadata": {},
   "source": [
    "# Batching input : \n",
    "## input을 하나만 주지 말고, 동시에 여러개 문자열 주기\n",
    "![batching](C:\\Users\\young\\Desktop\\pg_young\\TensorFlow\\img\\batching_input.png)"
   ]
  },
  {
   "cell_type": "code",
   "execution_count": 5,
   "metadata": {},
   "outputs": [
    {
     "name": "stdout",
     "output_type": "stream",
     "text": [
      "array([[[1., 0., 0., 0.],\n",
      "        [0., 1., 0., 0.],\n",
      "        [0., 0., 1., 0.],\n",
      "        [0., 0., 1., 0.],\n",
      "        [0., 0., 0., 1.]],\n",
      "\n",
      "       [[0., 1., 0., 0.],\n",
      "        [0., 0., 0., 1.],\n",
      "        [0., 0., 1., 0.],\n",
      "        [0., 0., 1., 0.],\n",
      "        [0., 0., 1., 0.]],\n",
      "\n",
      "       [[0., 0., 1., 0.],\n",
      "        [0., 0., 1., 0.],\n",
      "        [0., 1., 0., 0.],\n",
      "        [0., 1., 0., 0.],\n",
      "        [0., 0., 1., 0.]]], dtype=float32)\n",
      "array([[[ 0.08153728, -0.01229754],\n",
      "        [ 0.1110677 , -0.1079831 ],\n",
      "        [ 0.14615579, -0.21069548],\n",
      "        [ 0.17376135, -0.26369876],\n",
      "        [ 0.10631995, -0.10893869]],\n",
      "\n",
      "       [[ 0.05706795, -0.09702361],\n",
      "        [ 0.03063569,  0.01243168],\n",
      "        [ 0.10824958, -0.10488732],\n",
      "        [ 0.15472221, -0.1922839 ],\n",
      "        [ 0.18131687, -0.25170365]],\n",
      "\n",
      "       [[ 0.08785849, -0.11557979],\n",
      "        [ 0.13984415, -0.19951431],\n",
      "        [ 0.13673653, -0.21264327],\n",
      "        [ 0.11954772, -0.24927047],\n",
      "        [ 0.14114197, -0.3290184 ]]], dtype=float32)\n"
     ]
    }
   ],
   "source": [
    "with tf.variable_scope('3_batches') as scope:\n",
    "    # One cell RNN input_dim (4) -> output_dim (2). sequence: 5, batch 3\n",
    "    # 들어가는 input의 dimension은 4. output의 dimension은 2. 한 문자열의 길이는 5. 한꺼번에 3개의 문자열 투입.\n",
    "    # 한 문자열의 길이 = sequence length\n",
    "    # 한번에 투입되는 문자열의 갯수 = batch size\n",
    "    x_data = np.array([[h, e, l, l, o],\n",
    "                       [e, o, l, l, l],\n",
    "                       [l, l, e, e, l]], dtype=np.float32) # 길이가 5인 3개의 문자열 투입\n",
    "    pp.pprint(x_data)\n",
    "    \n",
    "    hidden_size = 2\n",
    "    cell = rnn.BasicLSTMCell(num_units=hidden_size, state_is_tuple=True)\n",
    "    outputs, _states = tf.nn.dynamic_rnn(\n",
    "        cell, x_data, dtype=tf.float32)\n",
    "    sess.run(tf.global_variables_initializer())\n",
    "    pp.pprint(outputs.eval())"
   ]
  }
 ],
 "metadata": {
  "kernelspec": {
   "display_name": "tf",
   "language": "python",
   "name": "tensorflow"
  },
  "language_info": {
   "codemirror_mode": {
    "name": "ipython",
    "version": 3
   },
   "file_extension": ".py",
   "mimetype": "text/x-python",
   "name": "python",
   "nbconvert_exporter": "python",
   "pygments_lexer": "ipython3",
   "version": "3.5.5"
  }
 },
 "nbformat": 4,
 "nbformat_minor": 2
}
