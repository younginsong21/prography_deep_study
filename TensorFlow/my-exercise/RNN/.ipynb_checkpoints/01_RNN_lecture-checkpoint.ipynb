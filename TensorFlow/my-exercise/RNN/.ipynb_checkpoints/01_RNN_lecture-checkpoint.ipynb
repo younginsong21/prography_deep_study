{
 "cells": [
  {
   "cell_type": "markdown",
   "metadata": {},
   "source": [
    "# SungKim 강의 Lecture12\n",
    "\n",
    "시간의 흐름에 따라 반영되는 series data\n",
    "이전의 결과가 다음 연산의 결과에 영향을 미쳐야만 series data라고 함.\n",
    "현재 상태가 다음 상태에 영향을 미친다.\n",
    "\n",
    "RNN cell에 의해 state를 계산하고 그 state가 다음번의 input이 됨.\n",
    "\n",
    "1. one to one (vanilla nn)\n",
    "2. one to many (image captioning - one:image, many:caption)\n",
    "3. many to one (sentiment classification - many: 단어열, one: sentiment(감정))\n",
    "4. many to many (machine translation - many: 원본 문장, many: 번역 문장)\n",
    "5. many to many (video classification on frame level)"
   ]
  }
 ],
 "metadata": {
  "kernelspec": {
   "display_name": "tf",
   "language": "python",
   "name": "tensorflow"
  },
  "language_info": {
   "codemirror_mode": {
    "name": "ipython",
    "version": 3
   },
   "file_extension": ".py",
   "mimetype": "text/x-python",
   "name": "python",
   "nbconvert_exporter": "python",
   "pygments_lexer": "ipython3",
   "version": "3.5.5"
  }
 },
 "nbformat": 4,
 "nbformat_minor": 2
}
