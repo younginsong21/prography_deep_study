{
 "cells": [
  {
   "cell_type": "code",
   "execution_count": 1,
   "metadata": {},
   "outputs": [],
   "source": [
    "#필요한 module import\n",
    "import torch\n",
    "from torch import nn, optim\n",
    "from torch.autograd import Variable\n",
    "import numpy as np\n",
    "import matplotlib.pyplot as plt"
   ]
  },
  {
   "cell_type": "code",
   "execution_count": 2,
   "metadata": {},
   "outputs": [],
   "source": [
    "# linear regression model 정의\n",
    "class LinearRegression(nn.Module):\n",
    "    # 생성자는 input/output dim을 인자로 받음\n",
    "    def __init__(self, in_dim, out_dim):\n",
    "        super(LinearRegression, self).__init__()\n",
    "        self.linear = nn.Linear(in_dim, out_dim) \n",
    "    \n",
    "    # forwarding\n",
    "    def forward(self, x):\n",
    "        out = self.linear(x)\n",
    "        return out"
   ]
  },
  {
   "cell_type": "code",
   "execution_count": 3,
   "metadata": {},
   "outputs": [],
   "source": [
    "# Hyper-parameters 정의\n",
    "input_size = 1\n",
    "output_size = 1\n",
    "num_epochs = 60\n",
    "learning_rate = 0.001"
   ]
  },
  {
   "cell_type": "code",
   "execution_count": 4,
   "metadata": {},
   "outputs": [
    {
     "data": {
      "text/plain": [
       "[<matplotlib.lines.Line2D at 0x1c3989a8a90>]"
      ]
     },
     "execution_count": 4,
     "metadata": {},
     "output_type": "execute_result"
    },
    {
     "data": {
      "image/png": "[encoded data removed]",
      "text/plain": [
       "<Figure size 432x288 with 1 Axes>"
      ]
     },
     "metadata": {},
     "output_type": "display_data"
    }
   ],
   "source": [
    "# 간단한 x, y 데이터셋\n",
    "x_train = np.array([[3.3], [4.4], [5.5], [6.71], [6.93], [4.168], \n",
    "                    [9.779], [6.182], [7.59], [2.167], [7.042], \n",
    "                    [10.791], [5.313], [7.997], [3.1]], dtype=np.float32)\n",
    "\n",
    "y_train = np.array([[1.7], [2.76], [2.09], [3.19], [1.694], [1.573], \n",
    "                    [3.366], [2.596], [2.53], [1.221], [2.827], \n",
    "                    [3.465], [1.65], [2.904], [1.3]], dtype=np.float32)\n",
    "plt.plot(x_train, y_train, 'ro', label='Original data')"
   ]
  },
  {
   "cell_type": "code",
   "execution_count": 5,
   "metadata": {},
   "outputs": [],
   "source": [
    "# numpy array를 pytorch tensor로 변환\n",
    "x_train = torch.from_numpy(x_train)\n",
    "y_train = torch.from_numpy(y_train)"
   ]
  },
  {
   "cell_type": "code",
   "execution_count": 6,
   "metadata": {},
   "outputs": [],
   "source": [
    "# linear regression 모델 정의\n",
    "# input, output dim은 앞에서 정의한 hyper-parameter 그대로 씀\n",
    "model = LinearRegression(input_size, output_size)"
   ]
  },
  {
   "cell_type": "code",
   "execution_count": 7,
   "metadata": {},
   "outputs": [],
   "source": [
    "# criterion, optimizer 정의\n",
    "criterion = nn.MSELoss()\n",
    "optimizer = torch.optim.SGD(model.parameters(), lr=learning_rate)"
   ]
  },
  {
   "cell_type": "code",
   "execution_count": 8,
   "metadata": {},
   "outputs": [
    {
     "name": "stdout",
     "output_type": "stream",
     "text": [
      "epoch: 5 / 60  loss: 2.819275379180908\n",
      "epoch: 10 / 60  loss: 1.2477487325668335\n",
      "epoch: 15 / 60  loss: 0.6110847592353821\n",
      "epoch: 20 / 60  loss: 0.3531486690044403\n",
      "epoch: 25 / 60  loss: 0.24864152073860168\n",
      "epoch: 30 / 60  loss: 0.20629090070724487\n",
      "epoch: 35 / 60  loss: 0.18912102282047272\n",
      "epoch: 40 / 60  loss: 0.18215222656726837\n",
      "epoch: 45 / 60  loss: 0.17931605875492096\n",
      "epoch: 50 / 60  loss: 0.17815421521663666\n",
      "epoch: 55 / 60  loss: 0.17767058312892914\n",
      "epoch: 60 / 60  loss: 0.17746184766292572\n"
     ]
    }
   ],
   "source": [
    "# 모델 학습\n",
    "for epoch in range(num_epochs):\n",
    "    # pytorch tensor을 Variable로 변환실제로 학습이 일어나기 위해선 numpy -> pytorch tensor -> Variable 과정\n",
    "    inputs = Variable(x_train)\n",
    "    targets = Variable(y_train)\n",
    "\n",
    "    # forward pass\n",
    "    outputs = model(inputs)\n",
    "    \n",
    "    # criterion 이용해서 loss 구함\n",
    "    loss = criterion(outputs, targets)\n",
    "    \n",
    "    # backward pass & optimize 과정\n",
    "    optimizer.zero_grad()\n",
    "    loss.backward()\n",
    "    optimizer.step()\n",
    "    \n",
    "    # 일정 스텝마다 loss 출력\n",
    "    # 여기서 바로 loss가 아니고 loss.data[0]으로 접근!\n",
    "    if (epoch+1)%5 == 0:\n",
    "        print(\"epoch:\", epoch+1, \"/\", num_epochs, \" loss:\", loss.data[0])"
   ]
  },
  {
   "cell_type": "code",
   "execution_count": 9,
   "metadata": {},
   "outputs": [
    {
     "data": {
      "text/plain": [
       "LinearRegression(\n",
       "  (linear): Linear(in_features=1, out_features=1, bias=True)\n",
       ")"
      ]
     },
     "execution_count": 9,
     "metadata": {},
     "output_type": "execute_result"
    }
   ],
   "source": [
    "# model evaluation\n",
    "model.eval()"
   ]
  },
  {
   "cell_type": "code",
   "execution_count": 10,
   "metadata": {},
   "outputs": [],
   "source": [
    "# x dataset을 input으로 해서 prediction 과정\n",
    "predict = model(Variable(x_train))\n",
    "predict = predict.data.numpy()"
   ]
  },
  {
   "cell_type": "code",
   "execution_count": 11,
   "metadata": {},
   "outputs": [
    {
     "data": {
      "image/png": "[encoded data removed]",
      "text/plain": [
       "<Figure size 432x288 with 1 Axes>"
      ]
     },
     "metadata": {},
     "output_type": "display_data"
    }
   ],
   "source": [
    "# 원본 x-y 그래프와 x-예측데이터 그래프 출력\n",
    "# x_train, y_train은 pytorch tensor로 바뀐 상태니까 다시 numpy 데이터형으로 변환 과정 필요\n",
    "plt.plot(x_train.numpy(), y_train.numpy(), 'ro', label='Original data')\n",
    "plt.plot(x_train.numpy(), predict, label='Fitting Line')\n",
    "plt.legend() \n",
    "plt.show()"
   ]
  },
  {
   "cell_type": "code",
   "execution_count": 12,
   "metadata": {},
   "outputs": [],
   "source": [
    "# model의 checkpoint 저장\n",
    "torch.save(model.state_dict(), 'linear_regression.ckpt')"
   ]
  }
 ],
 "metadata": {
  "kernelspec": {
   "display_name": "new_PyTorch",
   "language": "python",
   "name": "pytorch"
  },
  "language_info": {
   "codemirror_mode": {
    "name": "ipython",
    "version": 3
   },
   "file_extension": ".py",
   "mimetype": "text/x-python",
   "name": "python",
   "nbconvert_exporter": "python",
   "pygments_lexer": "ipython3",
   "version": "3.6.5"
  }
 },
 "nbformat": 4,
 "nbformat_minor": 2
}
